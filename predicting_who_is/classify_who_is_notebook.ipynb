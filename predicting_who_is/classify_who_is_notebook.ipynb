{
 "cells": [
  {
   "cell_type": "markdown",
   "metadata": {
    "deletable": true,
    "editable": true
   },
   "source": [
    "## 1. Data exploration\n",
    "\n",
    "Exploração dos dados baseado em:\n",
    "\n",
    "- __281__ observações\n",
    "- __7__ características \n",
    "- __2__ usuários distintos"
   ]
  },
  {
   "cell_type": "markdown",
   "metadata": {
    "deletable": true,
    "editable": true
   },
   "source": [
    "### Get started"
   ]
  },
  {
   "cell_type": "code",
   "execution_count": 1,
   "metadata": {
    "collapsed": false,
    "deletable": true,
    "editable": true
   },
   "outputs": [
    {
     "name": "stderr",
     "output_type": "stream",
     "text": [
      "/home/ocean/.local/lib/python2.7/site-packages/sklearn/cross_validation.py:44: DeprecationWarning: This module was deprecated in version 0.18 in favor of the model_selection module into which all the refactored classes and functions are moved. Also note that the interface of the new CV iterators are different from that of this module. This module will be removed in 0.20.\n",
      "  \"This module will be removed in 0.20.\", DeprecationWarning)\n"
     ]
    },
    {
     "data": {
      "text/html": [
       "<div>\n",
       "<table border=\"1\" class=\"dataframe\">\n",
       "  <thead>\n",
       "    <tr style=\"text-align: right;\">\n",
       "      <th></th>\n",
       "      <th>user</th>\n",
       "      <th>rate_blink_left</th>\n",
       "      <th>rate_blink_right</th>\n",
       "      <th>rate_smile_or_not</th>\n",
       "      <th>blink_left</th>\n",
       "      <th>blink_right</th>\n",
       "      <th>smile_or_not</th>\n",
       "    </tr>\n",
       "  </thead>\n",
       "  <tbody>\n",
       "    <tr>\n",
       "      <th>555</th>\n",
       "      <td>2</td>\n",
       "      <td>0.55</td>\n",
       "      <td>0.00</td>\n",
       "      <td>0.20</td>\n",
       "      <td>0</td>\n",
       "      <td>0</td>\n",
       "      <td>0</td>\n",
       "    </tr>\n",
       "    <tr>\n",
       "      <th>2406</th>\n",
       "      <td>2</td>\n",
       "      <td>0.76</td>\n",
       "      <td>0.99</td>\n",
       "      <td>0.42</td>\n",
       "      <td>0</td>\n",
       "      <td>0</td>\n",
       "      <td>1</td>\n",
       "    </tr>\n",
       "    <tr>\n",
       "      <th>2487</th>\n",
       "      <td>3</td>\n",
       "      <td>0.99</td>\n",
       "      <td>0.99</td>\n",
       "      <td>0.03</td>\n",
       "      <td>0</td>\n",
       "      <td>0</td>\n",
       "      <td>0</td>\n",
       "    </tr>\n",
       "    <tr>\n",
       "      <th>1447</th>\n",
       "      <td>2</td>\n",
       "      <td>0.99</td>\n",
       "      <td>0.83</td>\n",
       "      <td>0.20</td>\n",
       "      <td>0</td>\n",
       "      <td>0</td>\n",
       "      <td>0</td>\n",
       "    </tr>\n",
       "    <tr>\n",
       "      <th>983</th>\n",
       "      <td>3</td>\n",
       "      <td>0.63</td>\n",
       "      <td>0.48</td>\n",
       "      <td>0.12</td>\n",
       "      <td>0</td>\n",
       "      <td>1</td>\n",
       "      <td>0</td>\n",
       "    </tr>\n",
       "    <tr>\n",
       "      <th>1364</th>\n",
       "      <td>2</td>\n",
       "      <td>0.60</td>\n",
       "      <td>0.47</td>\n",
       "      <td>0.00</td>\n",
       "      <td>0</td>\n",
       "      <td>1</td>\n",
       "      <td>0</td>\n",
       "    </tr>\n",
       "    <tr>\n",
       "      <th>1902</th>\n",
       "      <td>1</td>\n",
       "      <td>1.00</td>\n",
       "      <td>0.99</td>\n",
       "      <td>0.15</td>\n",
       "      <td>0</td>\n",
       "      <td>0</td>\n",
       "      <td>0</td>\n",
       "    </tr>\n",
       "    <tr>\n",
       "      <th>749</th>\n",
       "      <td>1</td>\n",
       "      <td>1.00</td>\n",
       "      <td>0.99</td>\n",
       "      <td>0.28</td>\n",
       "      <td>0</td>\n",
       "      <td>0</td>\n",
       "      <td>0</td>\n",
       "    </tr>\n",
       "    <tr>\n",
       "      <th>2243</th>\n",
       "      <td>3</td>\n",
       "      <td>0.99</td>\n",
       "      <td>0.99</td>\n",
       "      <td>0.03</td>\n",
       "      <td>0</td>\n",
       "      <td>0</td>\n",
       "      <td>0</td>\n",
       "    </tr>\n",
       "    <tr>\n",
       "      <th>1702</th>\n",
       "      <td>1</td>\n",
       "      <td>0.99</td>\n",
       "      <td>0.99</td>\n",
       "      <td>0.01</td>\n",
       "      <td>0</td>\n",
       "      <td>0</td>\n",
       "      <td>0</td>\n",
       "    </tr>\n",
       "    <tr>\n",
       "      <th>2445</th>\n",
       "      <td>2</td>\n",
       "      <td>0.99</td>\n",
       "      <td>0.99</td>\n",
       "      <td>0.04</td>\n",
       "      <td>0</td>\n",
       "      <td>0</td>\n",
       "      <td>0</td>\n",
       "    </tr>\n",
       "    <tr>\n",
       "      <th>2478</th>\n",
       "      <td>2</td>\n",
       "      <td>0.99</td>\n",
       "      <td>0.99</td>\n",
       "      <td>0.06</td>\n",
       "      <td>0</td>\n",
       "      <td>0</td>\n",
       "      <td>0</td>\n",
       "    </tr>\n",
       "    <tr>\n",
       "      <th>457</th>\n",
       "      <td>3</td>\n",
       "      <td>0.85</td>\n",
       "      <td>0.99</td>\n",
       "      <td>0.01</td>\n",
       "      <td>0</td>\n",
       "      <td>0</td>\n",
       "      <td>0</td>\n",
       "    </tr>\n",
       "    <tr>\n",
       "      <th>1650</th>\n",
       "      <td>1</td>\n",
       "      <td>1.00</td>\n",
       "      <td>0.99</td>\n",
       "      <td>0.07</td>\n",
       "      <td>0</td>\n",
       "      <td>0</td>\n",
       "      <td>0</td>\n",
       "    </tr>\n",
       "    <tr>\n",
       "      <th>805</th>\n",
       "      <td>1</td>\n",
       "      <td>0.99</td>\n",
       "      <td>0.99</td>\n",
       "      <td>0.28</td>\n",
       "      <td>0</td>\n",
       "      <td>0</td>\n",
       "      <td>0</td>\n",
       "    </tr>\n",
       "    <tr>\n",
       "      <th>339</th>\n",
       "      <td>2</td>\n",
       "      <td>0.39</td>\n",
       "      <td>0.38</td>\n",
       "      <td>0.01</td>\n",
       "      <td>1</td>\n",
       "      <td>1</td>\n",
       "      <td>0</td>\n",
       "    </tr>\n",
       "    <tr>\n",
       "      <th>773</th>\n",
       "      <td>1</td>\n",
       "      <td>0.99</td>\n",
       "      <td>0.99</td>\n",
       "      <td>0.23</td>\n",
       "      <td>0</td>\n",
       "      <td>0</td>\n",
       "      <td>0</td>\n",
       "    </tr>\n",
       "    <tr>\n",
       "      <th>1241</th>\n",
       "      <td>1</td>\n",
       "      <td>0.99</td>\n",
       "      <td>0.97</td>\n",
       "      <td>0.12</td>\n",
       "      <td>0</td>\n",
       "      <td>0</td>\n",
       "      <td>0</td>\n",
       "    </tr>\n",
       "    <tr>\n",
       "      <th>1511</th>\n",
       "      <td>2</td>\n",
       "      <td>0.99</td>\n",
       "      <td>0.84</td>\n",
       "      <td>0.97</td>\n",
       "      <td>0</td>\n",
       "      <td>0</td>\n",
       "      <td>1</td>\n",
       "    </tr>\n",
       "    <tr>\n",
       "      <th>723</th>\n",
       "      <td>3</td>\n",
       "      <td>0.95</td>\n",
       "      <td>0.99</td>\n",
       "      <td>0.01</td>\n",
       "      <td>0</td>\n",
       "      <td>0</td>\n",
       "      <td>0</td>\n",
       "    </tr>\n",
       "  </tbody>\n",
       "</table>\n",
       "</div>"
      ],
      "text/plain": [
       "      user  rate_blink_left  rate_blink_right  rate_smile_or_not  blink_left  \\\n",
       "555      2             0.55              0.00               0.20           0   \n",
       "2406     2             0.76              0.99               0.42           0   \n",
       "2487     3             0.99              0.99               0.03           0   \n",
       "1447     2             0.99              0.83               0.20           0   \n",
       "983      3             0.63              0.48               0.12           0   \n",
       "1364     2             0.60              0.47               0.00           0   \n",
       "1902     1             1.00              0.99               0.15           0   \n",
       "749      1             1.00              0.99               0.28           0   \n",
       "2243     3             0.99              0.99               0.03           0   \n",
       "1702     1             0.99              0.99               0.01           0   \n",
       "2445     2             0.99              0.99               0.04           0   \n",
       "2478     2             0.99              0.99               0.06           0   \n",
       "457      3             0.85              0.99               0.01           0   \n",
       "1650     1             1.00              0.99               0.07           0   \n",
       "805      1             0.99              0.99               0.28           0   \n",
       "339      2             0.39              0.38               0.01           1   \n",
       "773      1             0.99              0.99               0.23           0   \n",
       "1241     1             0.99              0.97               0.12           0   \n",
       "1511     2             0.99              0.84               0.97           0   \n",
       "723      3             0.95              0.99               0.01           0   \n",
       "\n",
       "      blink_right  smile_or_not  \n",
       "555             0             0  \n",
       "2406            0             1  \n",
       "2487            0             0  \n",
       "1447            0             0  \n",
       "983             1             0  \n",
       "1364            1             0  \n",
       "1902            0             0  \n",
       "749             0             0  \n",
       "2243            0             0  \n",
       "1702            0             0  \n",
       "2445            0             0  \n",
       "2478            0             0  \n",
       "457             0             0  \n",
       "1650            0             0  \n",
       "805             0             0  \n",
       "339             1             0  \n",
       "773             0             0  \n",
       "1241            0             0  \n",
       "1511            0             1  \n",
       "723             0             0  "
      ]
     },
     "metadata": {},
     "output_type": "display_data"
    }
   ],
   "source": [
    "from data import get_full_data, get_who_is\n",
    "from matplotlib import pyplot as plt\n",
    "from sklearn import linear_model\n",
    "from predicting_who_is import accuracy_score, performance_metric\n",
    "import pandas as pd\n",
    "import numpy as np\n",
    "\n",
    "from IPython.display import display # Allows the use of display() for DataFrames\n",
    "\n",
    "# Import supplementary visualizations code visuals.py\n",
    "import visuals as vs\n",
    "\n",
    "X, Y, df = get_full_data()\n",
    "\n",
    "df = df.sample(frac=1)\n",
    "\n",
    "#X = df[df['user'] == 2][['rate_blink_left', 'rate_blink_right', 'rate_smile_or_not', 'blink_left', 'blink_right', 'smile_or_not']]\n",
    "#Y = df[df['user'] == 2]['user']\n",
    "\n",
    "#X = df[['blink_left', 'blink_right', 'smile_or_not']]\n",
    "# Y = df['user']\n",
    "\n",
    "Xdummies_df = pd.get_dummies(X)\n",
    "Ydummies_df = Y\n",
    "\n",
    "X = Xdummies_df.values\n",
    "Y = Ydummies_df.values\n",
    "\n",
    "# Print the first few entries of the RMS Titanic data\n",
    "display(df.head(20))"
   ]
  },
  {
   "cell_type": "markdown",
   "metadata": {
    "deletable": true,
    "editable": true
   },
   "source": [
    "### Create a function to analysing"
   ]
  },
  {
   "cell_type": "code",
   "execution_count": 2,
   "metadata": {
    "collapsed": false,
    "deletable": true,
    "editable": true
   },
   "outputs": [],
   "source": [
    "# Investigar \n",
    "# http://www.dummies.com/programming/big-data/data-science/how-to-visualize-the-classifier-in-an-svm-supervised-learning-model/\n",
    "# http://scikit-learn.org/stable/auto_examples/svm/plot_iris.html#sphx-glr-auto-examples-svm-plot-iris-py\n",
    "# http://scikit-learn.org/stable/auto_examples/plot_multilabel.html#sphx-glr-auto-examples-plot-multilabel-py\n",
    "#http://scikit-learn.org/stable/auto_examples/classification/plot_classifier_comparison.html#sphx-glr-auto-examples-classification-plot-classifier-comparison-py\n",
    "def display_points(X, Y):\n",
    "    from sklearn.decomposition import PCA\n",
    "    from sklearn import svm\n",
    "    from sklearn.tree import DecisionTreeClassifier\n",
    "    from sklearn.cross_validation import train_test_split\n",
    "    import pylab as pl\n",
    "    import numpy as np\n",
    "    X_train, X_test, y_train, y_test = train_test_split(X, Y, test_size=0.20, random_state=0)\n",
    "    pca = PCA(n_components=2).fit(X_train)\n",
    "    pca_2d = pca.transform(X_train)\n",
    "    svmClassifier_2d = svm.LinearSVC(random_state=0).fit(pca_2d, y_train)\n",
    "    #clf = DecisionTreeClassifier().fit(pca_2d, y_train)\n",
    "    for i in range(0, pca_2d.shape[0]):\n",
    "        if y_train[i] == 1:\n",
    "            c1 = pl.scatter(pca_2d[i,0],pca_2d[i,1], c='r', s=50,marker='+')\n",
    "        elif y_train[i] == 2:\n",
    "            c2 = pl.scatter(pca_2d[i,0],pca_2d[i,1], c='g', s=50,marker='o')\n",
    "        elif y_train[i] == 3:\n",
    "            c3 = pl.scatter(pca_2d[i,0],pca_2d[i,1], c='b', s=50,marker='*')\n",
    "\n",
    "    pl.legend([c1, c2, c3], ['Thiago', 'Alessandro',   'Jonatha'])\n",
    "    \n",
    "    x_min, x_max = pca_2d[:, 0].min() - 1, pca_2d[:,0].max() + 1\n",
    "    y_min, y_max = pca_2d[:, 1].min() - 1, pca_2d[:, 1].max() + 1\n",
    "    xx, yy = np.meshgrid(np.arange(x_min, x_max, .01), np.arange(y_min, y_max, .01))\n",
    "    Z = svmClassifier_2d.predict(np.c_[xx.ravel(),  yy.ravel()])\n",
    "    Z = Z.reshape(xx.shape)\n",
    "    pl.contour(xx, yy, Z, alpha=0.8)\n",
    "    \n",
    "    plt.xlim(xx.min(), xx.max())\n",
    "    plt.ylim(yy.min(), yy.max())\n",
    "    plt.xticks(())\n",
    "    plt.yticks(())\n",
    "    \n",
    "    pl.show()\n",
    "\n",
    "    "
   ]
  },
  {
   "cell_type": "markdown",
   "metadata": {
    "deletable": true,
    "editable": true
   },
   "source": [
    "###  Feature Observation\n",
    "\n",
    "We are see the 6 features in dataset"
   ]
  },
  {
   "cell_type": "code",
   "execution_count": 3,
   "metadata": {
    "collapsed": false,
    "deletable": true,
    "editable": true
   },
   "outputs": [
    {
     "data": {
      "image/png": "[encoded data removed]",
      "text/plain": [
       "<matplotlib.figure.Figure at 0x7ff946a2f890>"
      ]
     },
     "metadata": {},
     "output_type": "display_data"
    }
   ],
   "source": [
    "display_points(X, Y)"
   ]
  },
  {
   "cell_type": "markdown",
   "metadata": {
    "deletable": true,
    "editable": true
   },
   "source": [
    "## 2. Developing a model\n",
    "\n",
    "In this second section of the project, you will develop the tools and techniques necessary for a model to make a prediction. Being able to make accurate evaluations of each model's performance through the use of these tools and techniques helps to greatly reinforce the confidence in your predictions."
   ]
  },
  {
   "cell_type": "markdown",
   "metadata": {
    "deletable": true,
    "editable": true
   },
   "source": [
    "### Shuffle and split data\n",
    "\n",
    "For the code cell below, you will need to implement the following:\n",
    "\n",
    "- Use train_test_split from sklearn.cross_validation to shuffle and split the features and prices data into training and testing sets.\n",
    "    - Split the data into 80% training and 20% testing.\n",
    "    - Set the random_state for train_test_split to a value of your choice. This ensures results are consistent.\n",
    "- Assign the train and testing splits to X_train, X_test, y_train, and y_test."
   ]
  },
  {
   "cell_type": "code",
   "execution_count": 4,
   "metadata": {
    "collapsed": false,
    "deletable": true,
    "editable": true
   },
   "outputs": [
    {
     "name": "stdout",
     "output_type": "stream",
     "text": [
      "Training and testing split was successful.\n"
     ]
    }
   ],
   "source": [
    "# Import 'train_test_split'\n",
    "from sklearn.cross_validation import train_test_split\n",
    "\n",
    "# Shuffle and split the data into training and testing subsets\n",
    "X_train, X_test, y_train, y_test = train_test_split(X, Y, train_size = 0.8, random_state = 0)\n",
    "\n",
    "# Success\n",
    "print \"Training and testing split was successful.\""
   ]
  },
  {
   "cell_type": "markdown",
   "metadata": {
    "deletable": true,
    "editable": true
   },
   "source": [
    "### Performance Metric\n",
    "\n",
    "It is difficult to measure the quality of a given model without quantifying its performance over training and testing. This is typically done using some type of performance metric, whether it is through calculating some type of error, the goodness of fit, or some other useful measurement"
   ]
  },
  {
   "cell_type": "markdown",
   "metadata": {
    "deletable": true,
    "editable": true
   },
   "source": [
    "#### Algorithm OneVsRestClassifier"
   ]
  },
  {
   "cell_type": "code",
   "execution_count": 5,
   "metadata": {
    "collapsed": true,
    "deletable": true,
    "editable": true
   },
   "outputs": [],
   "source": [
    "def model_1(resultados):\n",
    "    from sklearn.multiclass import OneVsRestClassifier\n",
    "    from sklearn.svm import LinearSVC\n",
    "    modelo = OneVsRestClassifier(LinearSVC(random_state = 0))\n",
    "    resultado = accuracy_score(\"OneVsRest\", modelo, X_train, y_train)\n",
    "\n",
    "    resultados[resultado] = modelo"
   ]
  },
  {
   "cell_type": "markdown",
   "metadata": {
    "deletable": true,
    "editable": true
   },
   "source": [
    "#### Algorithm OneVsOne"
   ]
  },
  {
   "cell_type": "code",
   "execution_count": 6,
   "metadata": {
    "collapsed": true,
    "deletable": true,
    "editable": true
   },
   "outputs": [],
   "source": [
    "def model_2(resultados):\n",
    "    from sklearn.multiclass import OneVsOneClassifier\n",
    "    from sklearn.svm import LinearSVC\n",
    "    modelo = OneVsOneClassifier(LinearSVC(random_state = 0))\n",
    "    resultado = accuracy_score(\"OneVsOne\", modelo, X_train, y_train)\n",
    "\n",
    "    resultados[resultado] = modelo"
   ]
  },
  {
   "cell_type": "markdown",
   "metadata": {
    "deletable": true,
    "editable": true
   },
   "source": [
    "#### Algorithm MultinomialNB"
   ]
  },
  {
   "cell_type": "code",
   "execution_count": 7,
   "metadata": {
    "collapsed": true,
    "deletable": true,
    "editable": true
   },
   "outputs": [],
   "source": [
    "def model_3(resultados):\n",
    "    from sklearn.naive_bayes import MultinomialNB\n",
    "    modelo = MultinomialNB()\n",
    "    resultado = accuracy_score(\"MultinomialNB\", modelo, X_train, y_train)\n",
    "\n",
    "    resultados[resultado] = modelo "
   ]
  },
  {
   "cell_type": "markdown",
   "metadata": {
    "deletable": true,
    "editable": true
   },
   "source": [
    "#### Algorithm AdaBoostClassifier"
   ]
  },
  {
   "cell_type": "code",
   "execution_count": 8,
   "metadata": {
    "collapsed": true,
    "deletable": true,
    "editable": true
   },
   "outputs": [],
   "source": [
    "def model_4(resultados):\n",
    "    from sklearn.ensemble import AdaBoostClassifier\n",
    "    modelo = AdaBoostClassifier()\n",
    "    resultado = accuracy_score(\"AdaBoostClassifier\", modelo, X_train, y_train)\n",
    "\n",
    "    resultados[resultado] = modelo"
   ]
  },
  {
   "cell_type": "markdown",
   "metadata": {
    "deletable": true,
    "editable": true
   },
   "source": [
    "#### Algorithm LinearSVC"
   ]
  },
  {
   "cell_type": "code",
   "execution_count": 9,
   "metadata": {
    "collapsed": true,
    "deletable": true,
    "editable": true
   },
   "outputs": [],
   "source": [
    "def model_5(resultados):\n",
    "    from sklearn.svm import LinearSVC\n",
    "    modelo = LinearSVC(random_state=0)\n",
    "    resultado = accuracy_score('LinearSVC', modelo, X_train, y_train)\n",
    "\n",
    "    resultados[resultado] = modelo"
   ]
  },
  {
   "cell_type": "markdown",
   "metadata": {
    "deletable": true,
    "editable": true
   },
   "source": [
    "#### Algorithm SVC with Kernel Linear"
   ]
  },
  {
   "cell_type": "code",
   "execution_count": 10,
   "metadata": {
    "collapsed": true,
    "deletable": true,
    "editable": true
   },
   "outputs": [],
   "source": [
    "def model_6(resultados):\n",
    "    from sklearn.svm import SVC\n",
    "    modelo = SVC(kernel='linear', C=0.025)\n",
    "    resultado = accuracy_score('SVC with Kernel Linear', modelo, X_train, y_train)\n",
    "\n",
    "    resultados[resultado] = modelo"
   ]
  },
  {
   "cell_type": "markdown",
   "metadata": {
    "deletable": true,
    "editable": true
   },
   "source": [
    "#### Algorithm DecisionTreeClassifier"
   ]
  },
  {
   "cell_type": "code",
   "execution_count": 11,
   "metadata": {
    "collapsed": true,
    "deletable": true,
    "editable": true
   },
   "outputs": [],
   "source": [
    "def model_7(resultados):\n",
    "    from sklearn.tree import DecisionTreeClassifier\n",
    "    modelo = DecisionTreeClassifier(random_state=0)\n",
    "    resultado = accuracy_score('DecisionTreeClassifier', modelo, X_train, y_train)\n",
    "\n",
    "    resultados[resultado] = modelo"
   ]
  },
  {
   "cell_type": "markdown",
   "metadata": {
    "deletable": true,
    "editable": true
   },
   "source": [
    "#### Algorith OutputCodeClassifier"
   ]
  },
  {
   "cell_type": "code",
   "execution_count": 12,
   "metadata": {
    "collapsed": true,
    "deletable": true,
    "editable": true
   },
   "outputs": [],
   "source": [
    "def model_8(resultados):\n",
    "    from sklearn.multiclass import OutputCodeClassifier\n",
    "    from sklearn.svm import LinearSVC\n",
    "    modelo = OutputCodeClassifier(LinearSVC(random_state=0), code_size=2, random_state=0)\n",
    "    resultado = accuracy_score('OutputCodeClassifier', modelo, X_train, y_train)\n",
    "\n",
    "    resultados[resultado] = modelo"
   ]
  },
  {
   "cell_type": "markdown",
   "metadata": {
    "deletable": true,
    "editable": true
   },
   "source": [
    "#### Algorithm GaussianProcessClassifier"
   ]
  },
  {
   "cell_type": "code",
   "execution_count": 13,
   "metadata": {
    "collapsed": true,
    "deletable": true,
    "editable": true
   },
   "outputs": [],
   "source": [
    "def model_9(resultados):\n",
    "    from sklearn.gaussian_process import GaussianProcessClassifier\n",
    "    from sklearn.gaussian_process.kernels import RBF\n",
    "    modelo = GaussianProcessClassifier(1.0 * RBF(1.0), warm_start=True)\n",
    "    resultado = accuracy_score('GaussianProcessClassifier', modelo, X_train, y_train)\n",
    "\n",
    "    resultados[resultado] = modelo"
   ]
  },
  {
   "cell_type": "markdown",
   "metadata": {
    "deletable": true,
    "editable": true
   },
   "source": [
    "#### Algorithm MLPClassifier"
   ]
  },
  {
   "cell_type": "code",
   "execution_count": 14,
   "metadata": {
    "collapsed": true,
    "deletable": true,
    "editable": true
   },
   "outputs": [],
   "source": [
    "def model_10(resultados):\n",
    "    from sklearn.neural_network import MLPClassifier\n",
    "    modelo = MLPClassifier(alpha=1)\n",
    "    resultado = accuracy_score('MLPClassifier', modelo, X_train, y_train)\n",
    "\n",
    "    resultados[resultado] = modelo"
   ]
  },
  {
   "cell_type": "markdown",
   "metadata": {
    "deletable": true,
    "editable": true
   },
   "source": [
    "#### Algorithm KNeighborsClassifier"
   ]
  },
  {
   "cell_type": "code",
   "execution_count": 15,
   "metadata": {
    "collapsed": true,
    "deletable": true,
    "editable": true
   },
   "outputs": [],
   "source": [
    "def model_11(resultados):\n",
    "    from sklearn.neighbors import KNeighborsClassifier\n",
    "    modelo = KNeighborsClassifier(6)\n",
    "    resultado = accuracy_score('KNeighborsClassifier', modelo, X_train, y_train)\n",
    "\n",
    "    resultados[resultado] = modelo"
   ]
  },
  {
   "cell_type": "markdown",
   "metadata": {
    "deletable": true,
    "editable": true
   },
   "source": [
    "#### Algorithm QuadraticDiscriminantAnalysis"
   ]
  },
  {
   "cell_type": "code",
   "execution_count": 16,
   "metadata": {
    "collapsed": true,
    "deletable": true,
    "editable": true
   },
   "outputs": [],
   "source": [
    "def model_12(resultados):\n",
    "    from sklearn.discriminant_analysis import QuadraticDiscriminantAnalysis\n",
    "    modelo = QuadraticDiscriminantAnalysis()\n",
    "    resultado = accuracy_score('QuadraticDiscriminantAnalysis', modelo, X_train, y_train)\n",
    "\n",
    "    resultados[resultado] = modelo"
   ]
  },
  {
   "cell_type": "markdown",
   "metadata": {
    "deletable": true,
    "editable": true
   },
   "source": [
    "#### Algorithm GaussianNB"
   ]
  },
  {
   "cell_type": "code",
   "execution_count": 17,
   "metadata": {
    "collapsed": true,
    "deletable": true,
    "editable": true
   },
   "outputs": [],
   "source": [
    "def model_13(resultados):\n",
    "    from sklearn.naive_bayes import GaussianNB\n",
    "    modelo = GaussianNB()\n",
    "    resultado = accuracy_score('GaussianNB', modelo, X_train, y_train)\n",
    "\n",
    "    resultados[resultado] = modelo"
   ]
  },
  {
   "cell_type": "markdown",
   "metadata": {
    "deletable": true,
    "editable": true
   },
   "source": [
    "#### Algorithm RBF SVM"
   ]
  },
  {
   "cell_type": "code",
   "execution_count": 18,
   "metadata": {
    "collapsed": true,
    "deletable": true,
    "editable": true
   },
   "outputs": [],
   "source": [
    "def model_14(resultados):\n",
    "    from sklearn.svm import SVC\n",
    "    modelo = SVC(gamma=2, C=1)\n",
    "    resultado = accuracy_score('RBF SVM', modelo, X_train, y_train)\n",
    "\n",
    "    resultados[resultado] = modelo"
   ]
  },
  {
   "cell_type": "markdown",
   "metadata": {
    "deletable": true,
    "editable": true
   },
   "source": [
    "#### Select the best algorithm"
   ]
  },
  {
   "cell_type": "code",
   "execution_count": 19,
   "metadata": {
    "collapsed": false,
    "deletable": true,
    "editable": true,
    "scrolled": true
   },
   "outputs": [
    {
     "name": "stdout",
     "output_type": "stream",
     "text": [
      "Taxa de acerto do OneVsRest: 56.38%\n",
      "Taxa de acerto do OneVsOne: 56.90%\n",
      "Taxa de acerto do MultinomialNB: 47.50%\n",
      "Taxa de acerto do AdaBoostClassifier: 63.51%\n",
      "Taxa de acerto do LinearSVC: 56.38%\n",
      "Taxa de acerto do SVC with Kernel Linear: 45.33%\n",
      "Taxa de acerto do DecisionTreeClassifier: 73.82%\n",
      "Taxa de acerto do MLPClassifier: 55.68%\n",
      "Taxa de acerto do KNeighborsClassifier: 65.04%\n",
      "Taxa de acerto do QuadraticDiscriminantAnalysis: 51.73%\n",
      "Taxa de acerto do GaussianNB: 46.07%\n",
      "Taxa de acerto do RBF SVM: 61.21%\n",
      "Taxa de acerto base: 41.22%\n",
      "\n",
      "Vencedor:\n",
      "DecisionTreeClassifier(class_weight=None, criterion='gini', max_depth=None,\n",
      "            max_features=None, max_leaf_nodes=None,\n",
      "            min_impurity_split=1e-07, min_samples_leaf=1,\n",
      "            min_samples_split=2, min_weight_fraction_leaf=0.0,\n",
      "            presort=False, random_state=0, splitter='best')\n",
      "\n",
      "Taxa de acerto do algoritmo vencedor entre os algoritmos no mundo real : 75.13% \n",
      "Total de elementos : 2874\n"
     ]
    }
   ],
   "source": [
    "# Storage result of all algorithm and select the best\n",
    "resultados = {}\n",
    "\n",
    "# Create model 1\n",
    "model_1(resultados)\n",
    "# Create model 2\n",
    "model_2(resultados)\n",
    "# Create model 3\n",
    "model_3(resultados)\n",
    "# Create model 4\n",
    "model_4(resultados)\n",
    "# Create model 5\n",
    "model_5(resultados)\n",
    "# Create model 6\n",
    "model_6(resultados)\n",
    "# Create model 7\n",
    "model_7(resultados)\n",
    "# Create model 8\n",
    "#model_8(resultados)\n",
    "# Create model 9\n",
    "#model_9(resultados)\n",
    "# Create model 10\n",
    "model_10(resultados)\n",
    "# Create model 11\n",
    "model_11(resultados)\n",
    "# Create model 12\n",
    "model_12(resultados)\n",
    "# Create model 13\n",
    "model_13(resultados)\n",
    "# Create model 14\n",
    "model_14(resultados)\n",
    "\n",
    "\n",
    "performance_metric(resultados, X_train, X_test, y_train, y_test);"
   ]
  },
  {
   "cell_type": "markdown",
   "metadata": {
    "deletable": true,
    "editable": true
   },
   "source": [
    "### Predicting who is"
   ]
  },
  {
   "cell_type": "code",
   "execution_count": 20,
   "metadata": {
    "collapsed": false,
    "deletable": true,
    "editable": true
   },
   "outputs": [
    {
     "name": "stdout",
     "output_type": "stream",
     "text": [
      "Counter({3: 190, 1: 10})\n",
      "Você parece ser o Jonatha\n"
     ]
    }
   ],
   "source": [
    "from sklearn.tree import DecisionTreeClassifier\n",
    "from collections import Counter\n",
    "modelo = DecisionTreeClassifier(random_state=0)\n",
    "\n",
    "X_who_is, Y_who_is, df = get_who_is()\n",
    "\n",
    "#X_who_is = df[['blink_left', 'blink_right', 'smile_or_not']]\n",
    "\n",
    "#print X_who_is\n",
    "\n",
    "modelo.fit(X, Y)\n",
    "\n",
    "predict = modelo.predict(X_who_is)\n",
    "\n",
    "result = Counter(predict)\n",
    "\n",
    "who_is = result.most_common()[0][0]\n",
    "\n",
    "print result\n",
    "\n",
    "if who_is == 1:\n",
    "    msg = \"Você parece ser o Thiago\"\n",
    "elif who_is == 2:\n",
    "    msg = \"Você parece ser o Alessandro\"\n",
    "elif who_is == 3:\n",
    "    msg = \"Você parece ser o Jonatha\"\n",
    "    \n",
    "print msg"
   ]
  }
 ],
 "metadata": {
  "celltoolbar": "Raw Cell Format",
  "kernelspec": {
   "display_name": "Python 2",
   "language": "python",
   "name": "python2"
  },
  "language_info": {
   "codemirror_mode": {
    "name": "ipython",
    "version": 2
   },
   "file_extension": ".py",
   "mimetype": "text/x-python",
   "name": "python",
   "nbconvert_exporter": "python",
   "pygments_lexer": "ipython2",
   "version": "2.7.12"
  }
 },
 "nbformat": 4,
 "nbformat_minor": 2
}
