{
 "cells": [
  {
   "cell_type": "markdown",
   "metadata": {
    "deletable": true,
    "editable": true
   },
   "source": [
    "## 1. Data exploration\n",
    "\n",
    "Exploração dos dados baseado em:\n",
    "\n",
    "- __1500__ observações\n",
    "- __3__ características \n",
    "- __3__ usuários distintos"
   ]
  },
  {
   "cell_type": "markdown",
   "metadata": {
    "deletable": true,
    "editable": true
   },
   "source": [
    "### Get started"
   ]
  },
  {
   "cell_type": "code",
   "execution_count": 1,
   "metadata": {
    "collapsed": false,
    "deletable": true,
    "editable": true
   },
   "outputs": [
    {
     "name": "stderr",
     "output_type": "stream",
     "text": [
      "/home/ocean/.local/lib/python2.7/site-packages/sklearn/cross_validation.py:44: DeprecationWarning: This module was deprecated in version 0.18 in favor of the model_selection module into which all the refactored classes and functions are moved. Also note that the interface of the new CV iterators are different from that of this module. This module will be removed in 0.20.\n",
      "  \"This module will be removed in 0.20.\", DeprecationWarning)\n"
     ]
    },
    {
     "data": {
      "text/html": [
       "<div>\n",
       "<table border=\"1\" class=\"dataframe\">\n",
       "  <thead>\n",
       "    <tr style=\"text-align: right;\">\n",
       "      <th></th>\n",
       "      <th>rate_blink_left</th>\n",
       "      <th>rate_blink_right</th>\n",
       "      <th>rate_smile_or_not</th>\n",
       "    </tr>\n",
       "  </thead>\n",
       "  <tbody>\n",
       "    <tr>\n",
       "      <th>0</th>\n",
       "      <td>0.99</td>\n",
       "      <td>0.99</td>\n",
       "      <td>0.13</td>\n",
       "    </tr>\n",
       "    <tr>\n",
       "      <th>1</th>\n",
       "      <td>1.00</td>\n",
       "      <td>0.99</td>\n",
       "      <td>0.06</td>\n",
       "    </tr>\n",
       "    <tr>\n",
       "      <th>2</th>\n",
       "      <td>0.99</td>\n",
       "      <td>0.99</td>\n",
       "      <td>0.07</td>\n",
       "    </tr>\n",
       "    <tr>\n",
       "      <th>3</th>\n",
       "      <td>1.00</td>\n",
       "      <td>0.99</td>\n",
       "      <td>0.08</td>\n",
       "    </tr>\n",
       "    <tr>\n",
       "      <th>4</th>\n",
       "      <td>0.99</td>\n",
       "      <td>1.00</td>\n",
       "      <td>0.06</td>\n",
       "    </tr>\n",
       "    <tr>\n",
       "      <th>5</th>\n",
       "      <td>1.00</td>\n",
       "      <td>1.00</td>\n",
       "      <td>0.15</td>\n",
       "    </tr>\n",
       "    <tr>\n",
       "      <th>6</th>\n",
       "      <td>0.99</td>\n",
       "      <td>0.99</td>\n",
       "      <td>0.10</td>\n",
       "    </tr>\n",
       "    <tr>\n",
       "      <th>7</th>\n",
       "      <td>0.99</td>\n",
       "      <td>0.99</td>\n",
       "      <td>0.28</td>\n",
       "    </tr>\n",
       "    <tr>\n",
       "      <th>8</th>\n",
       "      <td>0.99</td>\n",
       "      <td>0.99</td>\n",
       "      <td>0.14</td>\n",
       "    </tr>\n",
       "    <tr>\n",
       "      <th>9</th>\n",
       "      <td>0.99</td>\n",
       "      <td>0.99</td>\n",
       "      <td>0.01</td>\n",
       "    </tr>\n",
       "    <tr>\n",
       "      <th>10</th>\n",
       "      <td>0.99</td>\n",
       "      <td>0.99</td>\n",
       "      <td>0.13</td>\n",
       "    </tr>\n",
       "    <tr>\n",
       "      <th>11</th>\n",
       "      <td>0.99</td>\n",
       "      <td>0.99</td>\n",
       "      <td>0.26</td>\n",
       "    </tr>\n",
       "    <tr>\n",
       "      <th>12</th>\n",
       "      <td>0.99</td>\n",
       "      <td>0.99</td>\n",
       "      <td>0.22</td>\n",
       "    </tr>\n",
       "    <tr>\n",
       "      <th>13</th>\n",
       "      <td>0.99</td>\n",
       "      <td>0.99</td>\n",
       "      <td>0.20</td>\n",
       "    </tr>\n",
       "    <tr>\n",
       "      <th>14</th>\n",
       "      <td>0.99</td>\n",
       "      <td>0.99</td>\n",
       "      <td>0.14</td>\n",
       "    </tr>\n",
       "    <tr>\n",
       "      <th>15</th>\n",
       "      <td>0.99</td>\n",
       "      <td>0.99</td>\n",
       "      <td>0.52</td>\n",
       "    </tr>\n",
       "    <tr>\n",
       "      <th>16</th>\n",
       "      <td>0.99</td>\n",
       "      <td>0.99</td>\n",
       "      <td>0.17</td>\n",
       "    </tr>\n",
       "    <tr>\n",
       "      <th>17</th>\n",
       "      <td>0.99</td>\n",
       "      <td>0.87</td>\n",
       "      <td>0.03</td>\n",
       "    </tr>\n",
       "    <tr>\n",
       "      <th>18</th>\n",
       "      <td>1.00</td>\n",
       "      <td>0.99</td>\n",
       "      <td>0.15</td>\n",
       "    </tr>\n",
       "    <tr>\n",
       "      <th>19</th>\n",
       "      <td>0.99</td>\n",
       "      <td>0.99</td>\n",
       "      <td>0.09</td>\n",
       "    </tr>\n",
       "    <tr>\n",
       "      <th>20</th>\n",
       "      <td>1.00</td>\n",
       "      <td>0.99</td>\n",
       "      <td>0.23</td>\n",
       "    </tr>\n",
       "    <tr>\n",
       "      <th>21</th>\n",
       "      <td>1.00</td>\n",
       "      <td>1.00</td>\n",
       "      <td>0.11</td>\n",
       "    </tr>\n",
       "    <tr>\n",
       "      <th>22</th>\n",
       "      <td>0.99</td>\n",
       "      <td>0.99</td>\n",
       "      <td>0.12</td>\n",
       "    </tr>\n",
       "    <tr>\n",
       "      <th>23</th>\n",
       "      <td>0.99</td>\n",
       "      <td>0.99</td>\n",
       "      <td>0.05</td>\n",
       "    </tr>\n",
       "    <tr>\n",
       "      <th>24</th>\n",
       "      <td>1.00</td>\n",
       "      <td>1.00</td>\n",
       "      <td>0.20</td>\n",
       "    </tr>\n",
       "    <tr>\n",
       "      <th>25</th>\n",
       "      <td>0.99</td>\n",
       "      <td>0.99</td>\n",
       "      <td>0.02</td>\n",
       "    </tr>\n",
       "    <tr>\n",
       "      <th>26</th>\n",
       "      <td>0.99</td>\n",
       "      <td>1.00</td>\n",
       "      <td>0.14</td>\n",
       "    </tr>\n",
       "    <tr>\n",
       "      <th>27</th>\n",
       "      <td>0.30</td>\n",
       "      <td>0.02</td>\n",
       "      <td>0.19</td>\n",
       "    </tr>\n",
       "    <tr>\n",
       "      <th>28</th>\n",
       "      <td>0.99</td>\n",
       "      <td>0.99</td>\n",
       "      <td>0.10</td>\n",
       "    </tr>\n",
       "    <tr>\n",
       "      <th>29</th>\n",
       "      <td>0.99</td>\n",
       "      <td>0.99</td>\n",
       "      <td>0.38</td>\n",
       "    </tr>\n",
       "    <tr>\n",
       "      <th>...</th>\n",
       "      <td>...</td>\n",
       "      <td>...</td>\n",
       "      <td>...</td>\n",
       "    </tr>\n",
       "    <tr>\n",
       "      <th>70</th>\n",
       "      <td>0.99</td>\n",
       "      <td>0.99</td>\n",
       "      <td>0.07</td>\n",
       "    </tr>\n",
       "    <tr>\n",
       "      <th>71</th>\n",
       "      <td>0.99</td>\n",
       "      <td>0.99</td>\n",
       "      <td>0.04</td>\n",
       "    </tr>\n",
       "    <tr>\n",
       "      <th>72</th>\n",
       "      <td>0.99</td>\n",
       "      <td>0.99</td>\n",
       "      <td>0.29</td>\n",
       "    </tr>\n",
       "    <tr>\n",
       "      <th>73</th>\n",
       "      <td>1.00</td>\n",
       "      <td>1.00</td>\n",
       "      <td>0.07</td>\n",
       "    </tr>\n",
       "    <tr>\n",
       "      <th>74</th>\n",
       "      <td>1.00</td>\n",
       "      <td>1.00</td>\n",
       "      <td>0.15</td>\n",
       "    </tr>\n",
       "    <tr>\n",
       "      <th>75</th>\n",
       "      <td>0.99</td>\n",
       "      <td>0.99</td>\n",
       "      <td>0.04</td>\n",
       "    </tr>\n",
       "    <tr>\n",
       "      <th>76</th>\n",
       "      <td>0.99</td>\n",
       "      <td>0.99</td>\n",
       "      <td>0.11</td>\n",
       "    </tr>\n",
       "    <tr>\n",
       "      <th>77</th>\n",
       "      <td>0.99</td>\n",
       "      <td>0.99</td>\n",
       "      <td>0.03</td>\n",
       "    </tr>\n",
       "    <tr>\n",
       "      <th>78</th>\n",
       "      <td>0.99</td>\n",
       "      <td>0.99</td>\n",
       "      <td>0.04</td>\n",
       "    </tr>\n",
       "    <tr>\n",
       "      <th>79</th>\n",
       "      <td>0.99</td>\n",
       "      <td>0.99</td>\n",
       "      <td>0.07</td>\n",
       "    </tr>\n",
       "    <tr>\n",
       "      <th>80</th>\n",
       "      <td>0.99</td>\n",
       "      <td>0.99</td>\n",
       "      <td>0.36</td>\n",
       "    </tr>\n",
       "    <tr>\n",
       "      <th>81</th>\n",
       "      <td>0.99</td>\n",
       "      <td>0.99</td>\n",
       "      <td>0.13</td>\n",
       "    </tr>\n",
       "    <tr>\n",
       "      <th>82</th>\n",
       "      <td>0.99</td>\n",
       "      <td>0.99</td>\n",
       "      <td>0.14</td>\n",
       "    </tr>\n",
       "    <tr>\n",
       "      <th>83</th>\n",
       "      <td>0.99</td>\n",
       "      <td>0.99</td>\n",
       "      <td>0.11</td>\n",
       "    </tr>\n",
       "    <tr>\n",
       "      <th>84</th>\n",
       "      <td>0.99</td>\n",
       "      <td>0.99</td>\n",
       "      <td>0.14</td>\n",
       "    </tr>\n",
       "    <tr>\n",
       "      <th>85</th>\n",
       "      <td>1.00</td>\n",
       "      <td>0.99</td>\n",
       "      <td>0.13</td>\n",
       "    </tr>\n",
       "    <tr>\n",
       "      <th>86</th>\n",
       "      <td>1.00</td>\n",
       "      <td>0.99</td>\n",
       "      <td>0.07</td>\n",
       "    </tr>\n",
       "    <tr>\n",
       "      <th>87</th>\n",
       "      <td>0.99</td>\n",
       "      <td>0.99</td>\n",
       "      <td>0.36</td>\n",
       "    </tr>\n",
       "    <tr>\n",
       "      <th>88</th>\n",
       "      <td>0.99</td>\n",
       "      <td>0.99</td>\n",
       "      <td>0.16</td>\n",
       "    </tr>\n",
       "    <tr>\n",
       "      <th>89</th>\n",
       "      <td>0.99</td>\n",
       "      <td>1.00</td>\n",
       "      <td>0.06</td>\n",
       "    </tr>\n",
       "    <tr>\n",
       "      <th>90</th>\n",
       "      <td>0.99</td>\n",
       "      <td>0.99</td>\n",
       "      <td>0.08</td>\n",
       "    </tr>\n",
       "    <tr>\n",
       "      <th>91</th>\n",
       "      <td>0.99</td>\n",
       "      <td>0.99</td>\n",
       "      <td>0.11</td>\n",
       "    </tr>\n",
       "    <tr>\n",
       "      <th>92</th>\n",
       "      <td>0.99</td>\n",
       "      <td>0.99</td>\n",
       "      <td>0.05</td>\n",
       "    </tr>\n",
       "    <tr>\n",
       "      <th>93</th>\n",
       "      <td>1.00</td>\n",
       "      <td>0.99</td>\n",
       "      <td>0.00</td>\n",
       "    </tr>\n",
       "    <tr>\n",
       "      <th>94</th>\n",
       "      <td>0.99</td>\n",
       "      <td>0.99</td>\n",
       "      <td>0.11</td>\n",
       "    </tr>\n",
       "    <tr>\n",
       "      <th>95</th>\n",
       "      <td>0.99</td>\n",
       "      <td>0.82</td>\n",
       "      <td>0.21</td>\n",
       "    </tr>\n",
       "    <tr>\n",
       "      <th>96</th>\n",
       "      <td>0.99</td>\n",
       "      <td>0.99</td>\n",
       "      <td>0.13</td>\n",
       "    </tr>\n",
       "    <tr>\n",
       "      <th>97</th>\n",
       "      <td>0.99</td>\n",
       "      <td>1.00</td>\n",
       "      <td>0.03</td>\n",
       "    </tr>\n",
       "    <tr>\n",
       "      <th>98</th>\n",
       "      <td>1.00</td>\n",
       "      <td>0.99</td>\n",
       "      <td>0.20</td>\n",
       "    </tr>\n",
       "    <tr>\n",
       "      <th>99</th>\n",
       "      <td>0.99</td>\n",
       "      <td>0.99</td>\n",
       "      <td>0.15</td>\n",
       "    </tr>\n",
       "  </tbody>\n",
       "</table>\n",
       "<p>100 rows × 3 columns</p>\n",
       "</div>"
      ],
      "text/plain": [
       "    rate_blink_left  rate_blink_right  rate_smile_or_not\n",
       "0              0.99              0.99               0.13\n",
       "1              1.00              0.99               0.06\n",
       "2              0.99              0.99               0.07\n",
       "3              1.00              0.99               0.08\n",
       "4              0.99              1.00               0.06\n",
       "5              1.00              1.00               0.15\n",
       "6              0.99              0.99               0.10\n",
       "7              0.99              0.99               0.28\n",
       "8              0.99              0.99               0.14\n",
       "9              0.99              0.99               0.01\n",
       "10             0.99              0.99               0.13\n",
       "11             0.99              0.99               0.26\n",
       "12             0.99              0.99               0.22\n",
       "13             0.99              0.99               0.20\n",
       "14             0.99              0.99               0.14\n",
       "15             0.99              0.99               0.52\n",
       "16             0.99              0.99               0.17\n",
       "17             0.99              0.87               0.03\n",
       "18             1.00              0.99               0.15\n",
       "19             0.99              0.99               0.09\n",
       "20             1.00              0.99               0.23\n",
       "21             1.00              1.00               0.11\n",
       "22             0.99              0.99               0.12\n",
       "23             0.99              0.99               0.05\n",
       "24             1.00              1.00               0.20\n",
       "25             0.99              0.99               0.02\n",
       "26             0.99              1.00               0.14\n",
       "27             0.30              0.02               0.19\n",
       "28             0.99              0.99               0.10\n",
       "29             0.99              0.99               0.38\n",
       "..              ...               ...                ...\n",
       "70             0.99              0.99               0.07\n",
       "71             0.99              0.99               0.04\n",
       "72             0.99              0.99               0.29\n",
       "73             1.00              1.00               0.07\n",
       "74             1.00              1.00               0.15\n",
       "75             0.99              0.99               0.04\n",
       "76             0.99              0.99               0.11\n",
       "77             0.99              0.99               0.03\n",
       "78             0.99              0.99               0.04\n",
       "79             0.99              0.99               0.07\n",
       "80             0.99              0.99               0.36\n",
       "81             0.99              0.99               0.13\n",
       "82             0.99              0.99               0.14\n",
       "83             0.99              0.99               0.11\n",
       "84             0.99              0.99               0.14\n",
       "85             1.00              0.99               0.13\n",
       "86             1.00              0.99               0.07\n",
       "87             0.99              0.99               0.36\n",
       "88             0.99              0.99               0.16\n",
       "89             0.99              1.00               0.06\n",
       "90             0.99              0.99               0.08\n",
       "91             0.99              0.99               0.11\n",
       "92             0.99              0.99               0.05\n",
       "93             1.00              0.99               0.00\n",
       "94             0.99              0.99               0.11\n",
       "95             0.99              0.82               0.21\n",
       "96             0.99              0.99               0.13\n",
       "97             0.99              1.00               0.03\n",
       "98             1.00              0.99               0.20\n",
       "99             0.99              0.99               0.15\n",
       "\n",
       "[100 rows x 3 columns]"
      ]
     },
     "metadata": {},
     "output_type": "display_data"
    }
   ],
   "source": [
    "from data import get_full_data, get_who_is\n",
    "from matplotlib import pyplot as plt\n",
    "from sklearn import linear_model\n",
    "from predicting_who_is import accuracy_score, performance_metric\n",
    "import pandas as pd\n",
    "import numpy as np\n",
    "\n",
    "from IPython.display import display # Allows the use of display() for DataFrames\n",
    "\n",
    "# Import supplementary visualizations code visuals.py\n",
    "import visuals as vs\n",
    "\n",
    "X, Y, df = get_full_data()\n",
    "\n",
    "# Print the first few entries of the RMS Titanic data\n",
    "display(X.head(100))"
   ]
  },
  {
   "cell_type": "markdown",
   "metadata": {
    "deletable": true,
    "editable": true
   },
   "source": [
    "### Create a function to analysing"
   ]
  },
  {
   "cell_type": "code",
   "execution_count": 2,
   "metadata": {
    "collapsed": false,
    "deletable": true,
    "editable": true
   },
   "outputs": [],
   "source": [
    "# Exemplos de representação\n",
    "\n",
    "# Boa referencia sobre analise de dados\n",
    "#http://felipegalvao.com.br/blog/2016/03/08/visualizacao-de-dados-com-python-matplotlib/\n",
    "\n",
    "# http://www.dummies.com/programming/big-data/data-science/how-to-visualize-the-classifier-in-an-svm-supervised-learning-model/\n",
    "# http://scikit-learn.org/stable/auto_examples/svm/plot_iris.html#sphx-glr-auto-examples-svm-plot-iris-py\n",
    "# http://scikit-learn.org/stable/auto_examples/plot_multilabel.html#sphx-glr-auto-examples-plot-multilabel-py\n",
    "#http://scikit-learn.org/stable/auto_examples/classification/plot_classifier_comparison.html#sphx-glr-auto-examples-classification-plot-classifier-comparison-py\n",
    "def display_features(X, Y):\n",
    "    from collections import Counter\n",
    "    \n",
    "    fig, eixos = plt.subplots(nrows=1, ncols=3, figsize=(15,4))\n",
    "    \n",
    "    # Dados do grafico de piscadas do olho esquerdo aberto\n",
    "    y_axis = X['rate_blink_left']\n",
    "    x_axis = range(len(y_axis))\n",
    "    width_n = 0.5\n",
    "    bar_color = 'orange'\n",
    "    y_axis.fillna(y_axis.mean(), inplace=True)\n",
    "    eixos[0].set_xlabel('Probabilidade (rate_blink_left)')\n",
    "    eixos[0].set_ylabel('Ocorrencia')\n",
    "    eixos[0].hist(y_axis, bins=15, color=bar_color)\n",
    "    eixos[0].set_title('Probabilidade do olho esquerdo aberto')\n",
    "    \n",
    "    # Dados do grafico de piscadas do olho direito aberto\n",
    "    y_axis = X['rate_blink_right']\n",
    "    x_axis = range(len(y_axis))\n",
    "    width_n = 0.5\n",
    "    bar_color = 'red'\n",
    "    y_axis.fillna(y_axis.mean(), inplace=True)\n",
    "    eixos[1].set_xlabel('Probabilidade (rate_blink_right)')\n",
    "    eixos[1].set_ylabel('Ocorrencia')\n",
    "    eixos[1].hist(y_axis, bins=15, color=bar_color)\n",
    "    eixos[1].set_title('Probabilidade do olho direito aberto')\n",
    "    \n",
    "    # Dados do grafico de estar sorrindo\n",
    "    y_axis = X['rate_smile_or_not']\n",
    "    x_axis = range(len(y_axis))\n",
    "    width_n = 0.5\n",
    "    bar_color = 'blue'\n",
    "    y_axis.fillna(y_axis.mean(), inplace=True)\n",
    "    eixos[2].set_xlabel('Probabilidade (rate_smile_or_not)')\n",
    "    eixos[2].set_ylabel('Ocorrencia')\n",
    "    eixos[2].hist(y_axis, bins=15, color=bar_color)\n",
    "    eixos[2].set_title('Probabilidade de sorriso')\n",
    "    \n",
    "    # Ajusta o espaço entre os dois gráficos\n",
    "    plt.subplots_adjust(wspace=.5)\n",
    "    plt.show()"
   ]
  },
  {
   "cell_type": "markdown",
   "metadata": {
    "deletable": true,
    "editable": true
   },
   "source": [
    "###  Feature Observation\n",
    "\n",
    "We are see the 3 features in dataset"
   ]
  },
  {
   "cell_type": "code",
   "execution_count": 3,
   "metadata": {
    "collapsed": false,
    "deletable": true,
    "editable": true
   },
   "outputs": [
    {
     "name": "stderr",
     "output_type": "stream",
     "text": [
      "/home/ocean/.local/lib/python2.7/site-packages/pandas/core/generic.py:3295: SettingWithCopyWarning: \n",
      "A value is trying to be set on a copy of a slice from a DataFrame\n",
      "\n",
      "See the caveats in the documentation: http://pandas.pydata.org/pandas-docs/stable/indexing.html#indexing-view-versus-copy\n",
      "  self._update_inplace(new_data)\n"
     ]
    },
    {
     "data": {
      "image/png": "[encoded data removed]",
      "text/plain": [
       "<matplotlib.figure.Figure at 0x7eff94440290>"
      ]
     },
     "metadata": {},
     "output_type": "display_data"
    }
   ],
   "source": [
    "display_features(X, Y)"
   ]
  },
  {
   "cell_type": "markdown",
   "metadata": {
    "deletable": true,
    "editable": true
   },
   "source": [
    "## 3. Developing a model\n",
    "\n",
    "In this second section of the project, you will develop the tools and techniques necessary for a model to make a prediction. Being able to make accurate evaluations of each model's performance through the use of these tools and techniques helps to greatly reinforce the confidence in your predictions."
   ]
  },
  {
   "cell_type": "markdown",
   "metadata": {
    "deletable": true,
    "editable": true
   },
   "source": [
    "### Shuffle and split data\n",
    "\n",
    "For the code cell below, you will need to implement the following:\n",
    "\n",
    "- Use train_test_split from sklearn.cross_validation to shuffle and split the features and prices data into training and testing sets.\n",
    "    - Split the data into 80% training and 20% testing.\n",
    "    - Set the random_state for train_test_split to a value of your choice. This ensures results are consistent.\n",
    "- Assign the train and testing splits to X_train, X_test, y_train, and y_test."
   ]
  },
  {
   "cell_type": "code",
   "execution_count": 4,
   "metadata": {
    "collapsed": false,
    "deletable": true,
    "editable": true
   },
   "outputs": [
    {
     "name": "stdout",
     "output_type": "stream",
     "text": [
      "Training and testing split was successful.\n"
     ]
    }
   ],
   "source": [
    "# Import 'train_test_split'\n",
    "from sklearn.cross_validation import train_test_split\n",
    "\n",
    "# Shuffle and split the data into training and testing subsets\n",
    "X_train, X_test, y_train, y_test = train_test_split(X, Y, train_size = 0.8, random_state = 0)\n",
    "\n",
    "# Success\n",
    "print \"Training and testing split was successful.\""
   ]
  },
  {
   "cell_type": "markdown",
   "metadata": {
    "deletable": true,
    "editable": true
   },
   "source": [
    "### Performance Metric\n",
    "\n",
    "It is difficult to measure the quality of a given model without quantifying its performance over training and testing. This is typically done using some type of performance metric, whether it is through calculating some type of error, the goodness of fit, or some other useful measurement"
   ]
  },
  {
   "cell_type": "markdown",
   "metadata": {
    "deletable": true,
    "editable": true
   },
   "source": [
    "#### Algorithm OneVsRestClassifier"
   ]
  },
  {
   "cell_type": "code",
   "execution_count": 5,
   "metadata": {
    "collapsed": true,
    "deletable": true,
    "editable": true
   },
   "outputs": [],
   "source": [
    "def model_1(resultados):\n",
    "    from sklearn.multiclass import OneVsRestClassifier\n",
    "    from sklearn.svm import LinearSVC\n",
    "    modelo = OneVsRestClassifier(LinearSVC(random_state = 0))\n",
    "    resultado = accuracy_score(\"OneVsRest\", modelo, X_train, y_train)\n",
    "\n",
    "    resultados[resultado] = modelo"
   ]
  },
  {
   "cell_type": "markdown",
   "metadata": {
    "deletable": true,
    "editable": true
   },
   "source": [
    "#### Algorithm OneVsOne"
   ]
  },
  {
   "cell_type": "code",
   "execution_count": 6,
   "metadata": {
    "collapsed": true,
    "deletable": true,
    "editable": true
   },
   "outputs": [],
   "source": [
    "def model_2(resultados):\n",
    "    from sklearn.multiclass import OneVsOneClassifier\n",
    "    from sklearn.svm import LinearSVC\n",
    "    modelo = OneVsOneClassifier(LinearSVC(random_state = 0))\n",
    "    resultado = accuracy_score(\"OneVsOne\", modelo, X_train, y_train)\n",
    "\n",
    "    resultados[resultado] = modelo"
   ]
  },
  {
   "cell_type": "markdown",
   "metadata": {
    "deletable": true,
    "editable": true
   },
   "source": [
    "#### Algorithm MultinomialNB"
   ]
  },
  {
   "cell_type": "code",
   "execution_count": 7,
   "metadata": {
    "collapsed": true,
    "deletable": true,
    "editable": true
   },
   "outputs": [],
   "source": [
    "def model_3(resultados):\n",
    "    from sklearn.naive_bayes import MultinomialNB\n",
    "    modelo = MultinomialNB()\n",
    "    resultado = accuracy_score(\"MultinomialNB\", modelo, X_train, y_train)\n",
    "\n",
    "    resultados[resultado] = modelo "
   ]
  },
  {
   "cell_type": "markdown",
   "metadata": {
    "deletable": true,
    "editable": true
   },
   "source": [
    "#### Algorithm AdaBoostClassifier"
   ]
  },
  {
   "cell_type": "code",
   "execution_count": 8,
   "metadata": {
    "collapsed": true,
    "deletable": true,
    "editable": true
   },
   "outputs": [],
   "source": [
    "def model_4(resultados):\n",
    "    from sklearn.ensemble import AdaBoostClassifier\n",
    "    modelo = AdaBoostClassifier()\n",
    "    resultado = accuracy_score(\"AdaBoostClassifier\", modelo, X_train, y_train)\n",
    "\n",
    "    resultados[resultado] = modelo"
   ]
  },
  {
   "cell_type": "markdown",
   "metadata": {
    "deletable": true,
    "editable": true
   },
   "source": [
    "#### Algorithm LinearSVC"
   ]
  },
  {
   "cell_type": "code",
   "execution_count": 9,
   "metadata": {
    "collapsed": true,
    "deletable": true,
    "editable": true
   },
   "outputs": [],
   "source": [
    "def model_5(resultados):\n",
    "    from sklearn.svm import LinearSVC\n",
    "    modelo = LinearSVC(random_state=0)\n",
    "    resultado = accuracy_score('LinearSVC', modelo, X_train, y_train)\n",
    "\n",
    "    resultados[resultado] = modelo"
   ]
  },
  {
   "cell_type": "markdown",
   "metadata": {
    "deletable": true,
    "editable": true
   },
   "source": [
    "#### Algorithm SVC with Kernel Linear"
   ]
  },
  {
   "cell_type": "code",
   "execution_count": 10,
   "metadata": {
    "collapsed": true,
    "deletable": true,
    "editable": true
   },
   "outputs": [],
   "source": [
    "def model_6(resultados):\n",
    "    from sklearn.svm import SVC\n",
    "    modelo = SVC(kernel='linear', C=0.025)\n",
    "    resultado = accuracy_score('SVC with Kernel Linear', modelo, X_train, y_train)\n",
    "\n",
    "    resultados[resultado] = modelo"
   ]
  },
  {
   "cell_type": "markdown",
   "metadata": {
    "deletable": true,
    "editable": true
   },
   "source": [
    "#### Algorithm DecisionTreeClassifier"
   ]
  },
  {
   "cell_type": "code",
   "execution_count": 11,
   "metadata": {
    "collapsed": true,
    "deletable": true,
    "editable": true
   },
   "outputs": [],
   "source": [
    "def model_7(resultados):\n",
    "    from sklearn.tree import DecisionTreeClassifier\n",
    "    modelo = DecisionTreeClassifier(random_state=0)\n",
    "    resultado = accuracy_score('DecisionTreeClassifier', modelo, X_train, y_train)\n",
    "\n",
    "    resultados[resultado] = modelo"
   ]
  },
  {
   "cell_type": "markdown",
   "metadata": {
    "deletable": true,
    "editable": true
   },
   "source": [
    "#### Algorith Extra Trees"
   ]
  },
  {
   "cell_type": "code",
   "execution_count": 12,
   "metadata": {
    "collapsed": true,
    "deletable": true,
    "editable": true
   },
   "outputs": [],
   "source": [
    "def model_8(resultados):\n",
    "    from sklearn.ensemble import ExtraTreesRegressor\n",
    "    modelo = ExtraTreesRegressor(n_estimators=10, random_state=0)\n",
    "    resultado = accuracy_score('ExtraTrees', modelo, X_train, y_train)\n",
    "\n",
    "    resultados[resultado] = modelo"
   ]
  },
  {
   "cell_type": "markdown",
   "metadata": {
    "deletable": true,
    "editable": true
   },
   "source": [
    "#### Algorithm GaussianProcessClassifier"
   ]
  },
  {
   "cell_type": "code",
   "execution_count": 13,
   "metadata": {
    "collapsed": true,
    "deletable": true,
    "editable": true
   },
   "outputs": [],
   "source": [
    "def model_9(resultados):\n",
    "    from sklearn.gaussian_process import GaussianProcessClassifier\n",
    "    from sklearn.gaussian_process.kernels import RBF\n",
    "    modelo = GaussianProcessClassifier(1.0 * RBF(1.0), warm_start=True)\n",
    "    resultado = accuracy_score('GaussianProcessClassifier', modelo, X_train, y_train)\n",
    "\n",
    "    resultados[resultado] = modelo"
   ]
  },
  {
   "cell_type": "markdown",
   "metadata": {
    "deletable": true,
    "editable": true
   },
   "source": [
    "#### Algorithm MLPClassifier"
   ]
  },
  {
   "cell_type": "code",
   "execution_count": 14,
   "metadata": {
    "collapsed": true,
    "deletable": true,
    "editable": true
   },
   "outputs": [],
   "source": [
    "def model_10(resultados):\n",
    "    from sklearn.neural_network import MLPClassifier\n",
    "    modelo = MLPClassifier(alpha=1)\n",
    "    resultado = accuracy_score('MLPClassifier', modelo, X_train, y_train)\n",
    "\n",
    "    resultados[resultado] = modelo"
   ]
  },
  {
   "cell_type": "markdown",
   "metadata": {
    "deletable": true,
    "editable": true
   },
   "source": [
    "#### Algorithm KNeighborsClassifier"
   ]
  },
  {
   "cell_type": "code",
   "execution_count": 15,
   "metadata": {
    "collapsed": true,
    "deletable": true,
    "editable": true
   },
   "outputs": [],
   "source": [
    "def model_11(resultados):\n",
    "    from sklearn.neighbors import KNeighborsClassifier\n",
    "    modelo = KNeighborsClassifier(6)\n",
    "    resultado = accuracy_score('KNeighborsClassifier', modelo, X_train, y_train)\n",
    "\n",
    "    resultados[resultado] = modelo"
   ]
  },
  {
   "cell_type": "markdown",
   "metadata": {
    "deletable": true,
    "editable": true
   },
   "source": [
    "#### Algorithm QuadraticDiscriminantAnalysis"
   ]
  },
  {
   "cell_type": "code",
   "execution_count": 16,
   "metadata": {
    "collapsed": true,
    "deletable": true,
    "editable": true
   },
   "outputs": [],
   "source": [
    "def model_12(resultados):\n",
    "    from sklearn.discriminant_analysis import QuadraticDiscriminantAnalysis\n",
    "    modelo = QuadraticDiscriminantAnalysis()\n",
    "    resultado = accuracy_score('QuadraticDiscriminantAnalysis', modelo, X_train, y_train)\n",
    "\n",
    "    resultados[resultado] = modelo"
   ]
  },
  {
   "cell_type": "markdown",
   "metadata": {
    "deletable": true,
    "editable": true
   },
   "source": [
    "#### Algorithm GaussianNB"
   ]
  },
  {
   "cell_type": "code",
   "execution_count": 17,
   "metadata": {
    "collapsed": true,
    "deletable": true,
    "editable": true
   },
   "outputs": [],
   "source": [
    "def model_13(resultados):\n",
    "    from sklearn.naive_bayes import GaussianNB\n",
    "    modelo = GaussianNB()\n",
    "    resultado = accuracy_score('GaussianNB', modelo, X_train, y_train)\n",
    "\n",
    "    resultados[resultado] = modelo"
   ]
  },
  {
   "cell_type": "markdown",
   "metadata": {
    "deletable": true,
    "editable": true
   },
   "source": [
    "#### Algorithm RBF SVM"
   ]
  },
  {
   "cell_type": "code",
   "execution_count": 18,
   "metadata": {
    "collapsed": true,
    "deletable": true,
    "editable": true
   },
   "outputs": [],
   "source": [
    "def model_14(resultados):\n",
    "    from sklearn.svm import SVC\n",
    "    modelo = SVC(gamma=2, C=1)\n",
    "    resultado = accuracy_score('RBF SVM', modelo, X_train, y_train)\n",
    "\n",
    "    resultados[resultado] = modelo"
   ]
  },
  {
   "cell_type": "markdown",
   "metadata": {
    "deletable": true,
    "editable": true
   },
   "source": [
    "#### Select the best algorithm"
   ]
  },
  {
   "cell_type": "code",
   "execution_count": 19,
   "metadata": {
    "collapsed": false,
    "deletable": true,
    "editable": true,
    "scrolled": true
   },
   "outputs": [
    {
     "name": "stdout",
     "output_type": "stream",
     "text": [
      "Taxa de acerto do OneVsRest: 61.43%\n",
      "Taxa de acerto do OneVsOne: 63.23%\n",
      "Taxa de acerto do MultinomialNB: 51.04%\n",
      "Taxa de acerto do AdaBoostClassifier: 66.57%\n",
      "Taxa de acerto do LinearSVC: 61.43%\n",
      "Taxa de acerto do SVC with Kernel Linear: 35.39%\n",
      "Taxa de acerto do DecisionTreeClassifier: 65.81%\n",
      "Taxa de acerto do ExtraTrees: 37.98%\n",
      "Taxa de acerto do MLPClassifier: 53.98%\n",
      "Taxa de acerto do KNeighborsClassifier: 67.51%\n",
      "Taxa de acerto do QuadraticDiscriminantAnalysis: 62.00%\n",
      "Taxa de acerto do GaussianNB: 49.55%\n",
      "Taxa de acerto do RBF SVM: 63.20%\n",
      "Taxa de acerto base: 40.98%\n",
      "\n",
      "Vencedor:\n",
      "KNeighborsClassifier(algorithm='auto', leaf_size=30, metric='minkowski',\n",
      "           metric_params=None, n_jobs=1, n_neighbors=6, p=2,\n",
      "           weights='uniform')\n",
      "\n",
      "Taxa de acerto do algoritmo vencedor entre os algoritmos no mundo real : 59.02% \n",
      "Total de elementos : 301\n"
     ]
    }
   ],
   "source": [
    "# Storage result of all algorithm and select the best\n",
    "resultados = {}\n",
    "\n",
    "# Create model 1\n",
    "model_1(resultados)\n",
    "# Create model 2\n",
    "model_2(resultados)\n",
    "# Create model 3\n",
    "model_3(resultados)\n",
    "# Create model 4\n",
    "model_4(resultados)\n",
    "# Create model 5\n",
    "model_5(resultados)\n",
    "# Create model 6\n",
    "model_6(resultados)\n",
    "# Create model 7\n",
    "model_7(resultados)\n",
    "# Create model 8\n",
    "model_8(resultados)\n",
    "# Create model 9\n",
    "# model_9(resultados)\n",
    "# Create model 10\n",
    "model_10(resultados)\n",
    "# Create model 11\n",
    "model_11(resultados)\n",
    "# Create model 12\n",
    "model_12(resultados)\n",
    "# Create model 13\n",
    "model_13(resultados)\n",
    "# Create model 14\n",
    "model_14(resultados)\n",
    "\n",
    "\n",
    "vencedor = performance_metric(resultados, X_train, X_test, y_train, y_test);"
   ]
  },
  {
   "cell_type": "markdown",
   "metadata": {
    "deletable": true,
    "editable": true
   },
   "source": [
    "### Analysing best classifier\n",
    "\n",
    "Plot data and see boundary of prediction"
   ]
  },
  {
   "cell_type": "code",
   "execution_count": 20,
   "metadata": {
    "collapsed": false,
    "deletable": true,
    "editable": true
   },
   "outputs": [],
   "source": [
    "# TODO: Plotar em uma matriz de confusão os resultados\n",
    "# http://developerdeveloper.blogspot.com.br/2013/11/matriz-confusao.html\n",
    "# http://pt.stackoverflow.com/questions/66777/d%C3%BAvidas-na-utiliza%C3%A7%C3%A3o-de-stratified-k-fold-no-scikit-learn"
   ]
  },
  {
   "cell_type": "markdown",
   "metadata": {},
   "source": [
    "#### Confusion Matrix\n",
    "\n",
    "Building confusion matrix from classifier "
   ]
  },
  {
   "cell_type": "code",
   "execution_count": 21,
   "metadata": {
    "collapsed": false
   },
   "outputs": [
    {
     "name": "stdout",
     "output_type": "stream",
     "text": [
      "Score mínimo: 0.43 Score máximo: 0.77 Score médio: 0.62\n"
     ]
    },
    {
     "data": {
      "image/png": "[encoded data removed]",
      "text/plain": [
       "<matplotlib.figure.Figure at 0x7eff5aa58dd0>"
      ]
     },
     "metadata": {},
     "output_type": "display_data"
    },
    {
     "data": {
      "image/png": "[encoded data removed]",
      "text/plain": [
       "<matplotlib.figure.Figure at 0x7eff5a698b50>"
      ]
     },
     "metadata": {},
     "output_type": "display_data"
    },
    {
     "data": {
      "image/png": "[encoded data removed]",
      "text/plain": [
       "<matplotlib.figure.Figure at 0x7eff5c3d7910>"
      ]
     },
     "metadata": {},
     "output_type": "display_data"
    },
    {
     "data": {
      "image/png": "[encoded data removed]",
      "text/plain": [
       "<matplotlib.figure.Figure at 0x7eff5c509d50>"
      ]
     },
     "metadata": {},
     "output_type": "display_data"
    },
    {
     "data": {
      "image/png": "[encoded data removed]",
      "text/plain": [
       "<matplotlib.figure.Figure at 0x7eff5a62f390>"
      ]
     },
     "metadata": {},
     "output_type": "display_data"
    },
    {
     "data": {
      "image/png": "[encoded data removed]",
      "text/plain": [
       "<matplotlib.figure.Figure at 0x7eff5a46df50>"
      ]
     },
     "metadata": {},
     "output_type": "display_data"
    },
    {
     "data": {
      "image/png": "[encoded data removed]",
      "text/plain": [
       "<matplotlib.figure.Figure at 0x7eff5a272950>"
      ]
     },
     "metadata": {},
     "output_type": "display_data"
    },
    {
     "data": {
      "image/png": "[encoded data removed]",
      "text/plain": [
       "<matplotlib.figure.Figure at 0x7eff5a0b3410>"
      ]
     },
     "metadata": {},
     "output_type": "display_data"
    },
    {
     "data": {
      "image/png": "[encoded data removed]",
      "text/plain": [
       "<matplotlib.figure.Figure at 0x7eff59f5df90>"
      ]
     },
     "metadata": {},
     "output_type": "display_data"
    },
    {
     "data": {
      "image/png": "[encoded data removed]",
      "text/plain": [
       "<matplotlib.figure.Figure at 0x7eff5a57a090>"
      ]
     },
     "metadata": {},
     "output_type": "display_data"
    }
   ],
   "source": [
    "from confusion_matrix import plot\n",
    "\n",
    "features = np.array(X)\n",
    "target = np.array(Y)\n",
    "\n",
    "plot(features, target, vencedor, ['feliz', 'raiva', 'triste'])"
   ]
  },
  {
   "cell_type": "markdown",
   "metadata": {
    "deletable": true,
    "editable": true
   },
   "source": [
    "### Predicting feelings\n",
    "\n",
    "Feelings are:\n",
    "\n",
    "- Sad (0)\n",
    "- Surprise (1)\n",
    "- Happy (2)"
   ]
  },
  {
   "cell_type": "code",
   "execution_count": 22,
   "metadata": {
    "collapsed": false,
    "deletable": true,
    "editable": true
   },
   "outputs": [
    {
     "name": "stdout",
     "output_type": "stream",
     "text": [
      "Counter({2: 31, 0: 13, 1: 7})\n",
      "Vc parece estar feliz! :)\n"
     ]
    }
   ],
   "source": [
    "from collections import Counter\n",
    "\n",
    "# 3 emoções (triste, surpreso e feliz) o melhor algoritmo de classficação foi o \n",
    "# OneVsOneClassifier com precisão no mundo real de 55% \n",
    "\n",
    "# 2 emoções (triste e feliz) o melhor algoritmo de classificação foi o\n",
    "# AdaBoostClassifier com precisão no mundo real de 92.50% \n",
    "\n",
    "modelo = vencedor\n",
    "\n",
    "X_who_is, Y_who_is, df = get_who_is()\n",
    "\n",
    "modelo.fit(X, Y)\n",
    "\n",
    "#display(X_who_is)\n",
    "\n",
    "predict = modelo.predict(X_who_is)\n",
    "\n",
    "result = Counter(predict)\n",
    "\n",
    "who_is = result.most_common()[0][0]\n",
    "\n",
    "print result\n",
    "\n",
    "switcher = {\n",
    "        0: \"Vc parece estar triste! :(\",\n",
    "        1: \"Vc parece estar raiva! :o\",\n",
    "        2: \"Vc parece estar feliz! :)\"\n",
    "}\n",
    "msg = switcher.get(who_is, \"Normal\")\n",
    "    \n",
    "print msg"
   ]
  }
 ],
 "metadata": {
  "celltoolbar": "Raw Cell Format",
  "kernelspec": {
   "display_name": "Python 2",
   "language": "python",
   "name": "python2"
  },
  "language_info": {
   "codemirror_mode": {
    "name": "ipython",
    "version": 2
   },
   "file_extension": ".py",
   "mimetype": "text/x-python",
   "name": "python",
   "nbconvert_exporter": "python",
   "pygments_lexer": "ipython2",
   "version": "2.7.12"
  }
 },
 "nbformat": 4,
 "nbformat_minor": 2
}
